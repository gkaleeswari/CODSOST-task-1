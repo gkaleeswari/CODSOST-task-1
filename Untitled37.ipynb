{
  "nbformat": 4,
  "nbformat_minor": 0,
  "metadata": {
    "colab": {
      "provenance": [],
      "authorship_tag": "ABX9TyN+CKjsMPRErnNkscRnxMsQ",
      "include_colab_link": true
    },
    "kernelspec": {
      "name": "python3",
      "display_name": "Python 3"
    },
    "language_info": {
      "name": "python"
    }
  },
  "cells": [
    {
      "cell_type": "markdown",
      "metadata": {
        "id": "view-in-github",
        "colab_type": "text"
      },
      "source": [
        "<a href=\"https://colab.research.google.com/github/gkaleeswari/CODSOST-task-1/blob/main/Untitled37.ipynb\" target=\"_parent\"><img src=\"https://colab.research.google.com/assets/colab-badge.svg\" alt=\"Open In Colab\"/></a>"
      ]
    },
    {
      "cell_type": "code",
      "execution_count": null,
      "metadata": {
        "colab": {
          "base_uri": "https://localhost:8080/"
        },
        "id": "lzkWfnmjWROP",
        "outputId": "54a41c51-7914-43ed-f08c-d40793992000"
      },
      "outputs": [
        {
          "output_type": "stream",
          "name": "stdout",
          "text": [
            "\n",
            "===== To-Do List Menu =====\n",
            "1. Add Task\n",
            "2. Remove Task\n",
            "3. Display Tasks\n",
            "4. Quit\n",
            "Enter your choice: 1\n",
            "Enter the task: Complete project\n",
            "Task added successfully.\n",
            "\n",
            "===== To-Do List Menu =====\n",
            "1. Add Task\n",
            "2. Remove Task\n",
            "3. Display Tasks\n",
            "4. Quit\n",
            "Enter your choice: 1\n",
            "Enter the task: Study for exam\n",
            "Task added successfully.\n",
            "\n",
            "===== To-Do List Menu =====\n",
            "1. Add Task\n",
            "2. Remove Task\n",
            "3. Display Tasks\n",
            "4. Quit\n",
            "Enter your choice: 3\n",
            "Your To-Do List:\n",
            "1. Complete project\n",
            "2. Study for exam\n",
            "\n",
            "===== To-Do List Menu =====\n",
            "1. Add Task\n",
            "2. Remove Task\n",
            "3. Display Tasks\n",
            "4. Quit\n",
            "Enter your choice: 3\n",
            "Your To-Do List:\n",
            "1. Complete project\n",
            "2. Study for exam\n",
            "\n",
            "===== To-Do List Menu =====\n",
            "1. Add Task\n",
            "2. Remove Task\n",
            "3. Display Tasks\n",
            "4. Quit\n",
            "Enter your choice: 2\n",
            "Enter the task to remove: 2\n",
            "Task not found.\n",
            "\n",
            "===== To-Do List Menu =====\n",
            "1. Add Task\n",
            "2. Remove Task\n",
            "3. Display Tasks\n",
            "4. Quit\n",
            "Enter your choice: 3\n",
            "Your To-Do List:\n",
            "1. Complete project\n",
            "2. Study for exam\n",
            "\n",
            "===== To-Do List Menu =====\n",
            "1. Add Task\n",
            "2. Remove Task\n",
            "3. Display Tasks\n",
            "4. Quit\n",
            "Enter your choice: 4\n",
            "Exiting program.\n"
          ]
        }
      ],
      "source": [
        "class TodoList:\n",
        "    def __init__(self):\n",
        "        self.tasks = []\n",
        "\n",
        "    def add_task(self, task):\n",
        "        self.tasks.append(task)\n",
        "        print(\"Task added successfully.\")\n",
        "\n",
        "    def remove_task(self, task):\n",
        "        if task in self.tasks:\n",
        "            self.tasks.remove(task)\n",
        "            print(\"Task removed successfully.\")\n",
        "        else:\n",
        "            print(\"Task not found.\")\n",
        "\n",
        "    def display_tasks(self):\n",
        "        if self.tasks:\n",
        "            print(\"Your To-Do List:\")\n",
        "            for index, task in enumerate(self.tasks, start=1):\n",
        "                print(f\"{index}. {task}\")\n",
        "        else:\n",
        "            print(\"Your To-Do List is empty.\")\n",
        "\n",
        "def main():\n",
        "    todo_list = TodoList()\n",
        "\n",
        "    while True:\n",
        "        print(\"\\n===== To-Do List Menu =====\")\n",
        "        print(\"1. Add Task\")\n",
        "        print(\"2. Remove Task\")\n",
        "        print(\"3. Display Tasks\")\n",
        "        print(\"4. Quit\")\n",
        "\n",
        "        choice = input(\"Enter your choice: \")\n",
        "\n",
        "        if choice == '1':\n",
        "            task = input(\"Enter the task: \")\n",
        "            todo_list.add_task(task)\n",
        "        elif choice == '2':\n",
        "            task = input(\"Enter the task to remove: \")\n",
        "            todo_list.remove_task(task)\n",
        "        elif choice == '3':\n",
        "            todo_list.display_tasks()\n",
        "        elif choice == '4':\n",
        "            print(\"Exiting program.\")\n",
        "            break\n",
        "        else:\n",
        "            print(\"Invalid choice. Please try again.\")\n",
        "\n",
        "if __name__ == \"__main__\":\n",
        "    main()\n"
      ]
    }
  ]
}